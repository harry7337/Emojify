{
  "nbformat": 4,
  "nbformat_minor": 0,
  "metadata": {
    "accelerator": "GPU",
    "colab": {
      "name": "Emojify.ipynb",
      "provenance": [],
      "collapsed_sections": [],
      "toc_visible": true,
      "include_colab_link": true
    },
    "kernelspec": {
      "display_name": "Python 3",
      "name": "python3"
    },
    "language_info": {
      "name": "python"
    }
  },
  "cells": [
    {
      "cell_type": "markdown",
      "metadata": {
        "id": "view-in-github",
        "colab_type": "text"
      },
      "source": [
        "<a href=\"https://colab.research.google.com/github/harry7337/Emojify/blob/main/Final_Model/Emojify.ipynb\" target=\"_parent\"><img src=\"https://colab.research.google.com/assets/colab-badge.svg\" alt=\"Open In Colab\"/></a>"
      ]
    },
    {
      "cell_type": "code",
      "metadata": {
        "colab": {
          "base_uri": "https://localhost:8080/"
        },
        "id": "n68Ib3TP2mBB",
        "outputId": "2c3aa3de-7a27-439c-d23e-dc445c53c0c1"
      },
      "source": [
        "from google.colab import drive\n",
        "drive.mount('/content/drive') \n"
      ],
      "execution_count": null,
      "outputs": [
        {
          "output_type": "stream",
          "name": "stdout",
          "text": [
            "Drive already mounted at /content/drive; to attempt to forcibly remount, call drive.mount(\"/content/drive\", force_remount=True).\n"
          ]
        }
      ]
    },
    {
      "cell_type": "markdown",
      "metadata": {
        "id": "N5CML54uY_x1"
      },
      "source": [
        ""
      ]
    },
    {
      "cell_type": "code",
      "metadata": {
        "colab": {
          "base_uri": "https://localhost:8080/"
        },
        "id": "pk6VHZXe5pPP",
        "outputId": "44ca3777-3150-4f69-add2-9a939c1eedb3"
      },
      "source": [
        "%cd drive/MyDrive/Emojify_dataset/"
      ],
      "execution_count": null,
      "outputs": [
        {
          "output_type": "stream",
          "name": "stdout",
          "text": [
            "[Errno 2] No such file or directory: 'drive/MyDrive/Emojify_dataset/'\n",
            "/content/drive/MyDrive/Emojify_dataset\n"
          ]
        }
      ]
    },
    {
      "cell_type": "code",
      "metadata": {
        "id": "45qzOLqh3mR0"
      },
      "source": [
        "import numpy as np\n",
        "import pandas as pd\n",
        "import cv2\n",
        "import matplotlib.pyplot as plt"
      ],
      "execution_count": null,
      "outputs": []
    },
    {
      "cell_type": "code",
      "metadata": {
        "id": "4L-93yuGTy2V"
      },
      "source": [
        "import tensorflow as tf\n"
      ],
      "execution_count": null,
      "outputs": []
    },
    {
      "cell_type": "code",
      "metadata": {
        "id": "I3EoZpcTA2XK"
      },
      "source": [
        "from tensorflow import keras\n",
        "from keras.models import Sequential\n",
        "from keras.layers import Dense, Dropout, Flatten\n",
        "from keras.layers import Conv2D\n",
        "from tensorflow.keras.optimizers import Adam\n",
        "from keras.layers import MaxPooling2D, BatchNormalization\n",
        "from keras.preprocessing.image import ImageDataGenerator\n",
        "from tensorflow.keras.utils import to_categorical"
      ],
      "execution_count": null,
      "outputs": []
    },
    {
      "cell_type": "code",
      "metadata": {
        "id": "gcljRHL47YZe"
      },
      "source": [
        "data=pd.read_csv('fer2013.csv')"
      ],
      "execution_count": null,
      "outputs": []
    },
    {
      "cell_type": "code",
      "metadata": {
        "id": "Kc85QhAp66co",
        "colab": {
          "base_uri": "https://localhost:8080/",
          "height": 204
        },
        "outputId": "c763c3d6-5ec4-4f6c-a237-43a8524228c3"
      },
      "source": [
        "data.head()"
      ],
      "execution_count": null,
      "outputs": [
        {
          "output_type": "execute_result",
          "data": {
            "text/html": [
              "<div>\n",
              "<style scoped>\n",
              "    .dataframe tbody tr th:only-of-type {\n",
              "        vertical-align: middle;\n",
              "    }\n",
              "\n",
              "    .dataframe tbody tr th {\n",
              "        vertical-align: top;\n",
              "    }\n",
              "\n",
              "    .dataframe thead th {\n",
              "        text-align: right;\n",
              "    }\n",
              "</style>\n",
              "<table border=\"1\" class=\"dataframe\">\n",
              "  <thead>\n",
              "    <tr style=\"text-align: right;\">\n",
              "      <th></th>\n",
              "      <th>emotion</th>\n",
              "      <th>pixels</th>\n",
              "      <th>Usage</th>\n",
              "    </tr>\n",
              "  </thead>\n",
              "  <tbody>\n",
              "    <tr>\n",
              "      <th>0</th>\n",
              "      <td>0</td>\n",
              "      <td>70 80 82 72 58 58 60 63 54 58 60 48 89 115 121...</td>\n",
              "      <td>Training</td>\n",
              "    </tr>\n",
              "    <tr>\n",
              "      <th>1</th>\n",
              "      <td>0</td>\n",
              "      <td>151 150 147 155 148 133 111 140 170 174 182 15...</td>\n",
              "      <td>Training</td>\n",
              "    </tr>\n",
              "    <tr>\n",
              "      <th>2</th>\n",
              "      <td>2</td>\n",
              "      <td>231 212 156 164 174 138 161 173 182 200 106 38...</td>\n",
              "      <td>Training</td>\n",
              "    </tr>\n",
              "    <tr>\n",
              "      <th>3</th>\n",
              "      <td>4</td>\n",
              "      <td>24 32 36 30 32 23 19 20 30 41 21 22 32 34 21 1...</td>\n",
              "      <td>Training</td>\n",
              "    </tr>\n",
              "    <tr>\n",
              "      <th>4</th>\n",
              "      <td>6</td>\n",
              "      <td>4 0 0 0 0 0 0 0 0 0 0 0 3 15 23 28 48 50 58 84...</td>\n",
              "      <td>Training</td>\n",
              "    </tr>\n",
              "  </tbody>\n",
              "</table>\n",
              "</div>"
            ],
            "text/plain": [
              "   emotion                                             pixels     Usage\n",
              "0        0  70 80 82 72 58 58 60 63 54 58 60 48 89 115 121...  Training\n",
              "1        0  151 150 147 155 148 133 111 140 170 174 182 15...  Training\n",
              "2        2  231 212 156 164 174 138 161 173 182 200 106 38...  Training\n",
              "3        4  24 32 36 30 32 23 19 20 30 41 21 22 32 34 21 1...  Training\n",
              "4        6  4 0 0 0 0 0 0 0 0 0 0 0 3 15 23 28 48 50 58 84...  Training"
            ]
          },
          "metadata": {},
          "execution_count": 31
        }
      ]
    },
    {
      "cell_type": "code",
      "metadata": {
        "id": "75WjSm9F7daL"
      },
      "source": [
        "data.emotion.unique() #diff emotion in dataset\n",
        "label_to_text = {0:'anger', 1:'disgust', 2:'fear', 3:'happiness', 4: 'sadness', 5: 'surprise', 6: 'neutral'} "
      ],
      "execution_count": null,
      "outputs": []
    },
    {
      "cell_type": "code",
      "metadata": {
        "id": "stmTNdwn7qEw"
      },
      "source": [
        "X_train = []\n",
        "y_train = []\n",
        "X_test = []\n",
        "y_test = []\n",
        "for index, row in data.iterrows():\n",
        "    k=np.array(data.pixels.loc[index].split(' ')).reshape(48, 48, 1).astype('int')\n",
        "    if row['Usage'] == 'Training':\n",
        "        X_train.append(k)\n",
        "        y_train.append(row['emotion'])\n",
        "    elif row['Usage'] == 'PublicTest':\n",
        "        X_test.append(k)\n",
        "        y_test.append(row['emotion'])\n",
        "        \n",
        "\n",
        "X_train = np.array(X_train)\n",
        "y_train = np.array(y_train)\n",
        "X_test = np.array(X_test)\n",
        "y_test = np.array(y_test)\n",
        "\n",
        "X_train = X_train.reshape(X_train.shape[0], 48, 48, 1)\n",
        "X_test = X_test.reshape(X_test.shape[0], 48, 48, 1)\n",
        "\n",
        "y_train= to_categorical(y_train, num_classes=7)\n",
        "y_test = to_categorical(y_test, num_classes=7)"
      ],
      "execution_count": null,
      "outputs": []
    },
    {
      "cell_type": "code",
      "metadata": {
        "id": "EmPxRwby78DK",
        "colab": {
          "base_uri": "https://localhost:8080/"
        },
        "outputId": "6a60f205-9e13-466a-978b-2ea74847d5ae"
      },
      "source": [
        "type(X_train)"
      ],
      "execution_count": null,
      "outputs": [
        {
          "output_type": "execute_result",
          "data": {
            "text/plain": [
              "numpy.ndarray"
            ]
          },
          "metadata": {},
          "execution_count": 34
        }
      ]
    },
    {
      "cell_type": "code",
      "metadata": {
        "id": "kQilmcMs8IKg"
      },
      "source": [
        ""
      ],
      "execution_count": null,
      "outputs": []
    },
    {
      "cell_type": "code",
      "metadata": {
        "id": "XnP6CX2o8hrv",
        "colab": {
          "base_uri": "https://localhost:8080/"
        },
        "outputId": "b05c60c5-fb8e-4327-f659-0be21f9c29ee"
      },
      "source": [
        "print(tf.__version__)"
      ],
      "execution_count": null,
      "outputs": [
        {
          "output_type": "stream",
          "name": "stdout",
          "text": [
            "2.6.0\n"
          ]
        }
      ]
    },
    {
      "cell_type": "code",
      "metadata": {
        "id": "3vsjiRqN83MV"
      },
      "source": [
        "train_datagen = ImageDataGenerator(rescale=1./255,\n",
        "                                   shear_range=0.2,\n",
        "                                   zoom_range=0.2,\n",
        "                                   rotation_range=0.2,\n",
        "                                   horizontal_flip=True)\n",
        "val_datagen = ImageDataGenerator(rescale=1./255)\n",
        "train_datagen.fit(X_train)\n",
        "val_datagen.fit(X_test)"
      ],
      "execution_count": null,
      "outputs": []
    },
    {
      "cell_type": "code",
      "metadata": {
        "id": "IVuqmkiN9Ybv"
      },
      "source": [
        "emotion_model = Sequential()\n",
        "emotion_model.add(Conv2D(32, kernel_size=(3, 3), activation='relu', input_shape=(48,48,1)))\n",
        "emotion_model.add(Conv2D(64, kernel_size=(3, 3), activation='relu'))\n",
        "emotion_model.add(MaxPooling2D(pool_size=(2, 2)))\n",
        "emotion_model.add(Dropout(0.25))\n",
        "emotion_model.add(BatchNormalization())\n",
        "emotion_model.add(Conv2D(128, kernel_size=(3, 3), activation='relu'))\n",
        "emotion_model.add(MaxPooling2D(pool_size=(2, 2)))\n",
        "emotion_model.add(Conv2D(128, kernel_size=(3, 3), activation='relu'))\n",
        "emotion_model.add(MaxPooling2D(pool_size=(2, 2)))\n",
        "emotion_model.add(Dropout(0.25))\n",
        "emotion_model.add(BatchNormalization())\n",
        "emotion_model.add(Flatten())\n",
        "emotion_model.add(Dense(1024, activation='relu'))\n",
        "emotion_model.add(Dropout(0.5))\n",
        "emotion_model.add(Dense(512, activation='relu'))\n",
        "emotion_model.add(Dropout(0.5))\n",
        "emotion_model.add(Dense(7, activation='softmax'))"
      ],
      "execution_count": null,
      "outputs": []
    },
    {
      "cell_type": "code",
      "metadata": {
        "id": "9XPX_bq8-QhP",
        "colab": {
          "base_uri": "https://localhost:8080/"
        },
        "outputId": "74fa160a-ed6d-4d61-fe5b-82624b665448"
      },
      "source": [
        "emotion_model.summary()"
      ],
      "execution_count": null,
      "outputs": [
        {
          "output_type": "stream",
          "name": "stdout",
          "text": [
            "Model: \"sequential\"\n",
            "_________________________________________________________________\n",
            "Layer (type)                 Output Shape              Param #   \n",
            "=================================================================\n",
            "conv2d (Conv2D)              (None, 46, 46, 32)        320       \n",
            "_________________________________________________________________\n",
            "conv2d_1 (Conv2D)            (None, 44, 44, 64)        18496     \n",
            "_________________________________________________________________\n",
            "max_pooling2d (MaxPooling2D) (None, 22, 22, 64)        0         \n",
            "_________________________________________________________________\n",
            "dropout (Dropout)            (None, 22, 22, 64)        0         \n",
            "_________________________________________________________________\n",
            "batch_normalization (BatchNo (None, 22, 22, 64)        256       \n",
            "_________________________________________________________________\n",
            "conv2d_2 (Conv2D)            (None, 20, 20, 128)       73856     \n",
            "_________________________________________________________________\n",
            "max_pooling2d_1 (MaxPooling2 (None, 10, 10, 128)       0         \n",
            "_________________________________________________________________\n",
            "conv2d_3 (Conv2D)            (None, 8, 8, 128)         147584    \n",
            "_________________________________________________________________\n",
            "max_pooling2d_2 (MaxPooling2 (None, 4, 4, 128)         0         \n",
            "_________________________________________________________________\n",
            "dropout_1 (Dropout)          (None, 4, 4, 128)         0         \n",
            "_________________________________________________________________\n",
            "batch_normalization_1 (Batch (None, 4, 4, 128)         512       \n",
            "_________________________________________________________________\n",
            "flatten (Flatten)            (None, 2048)              0         \n",
            "_________________________________________________________________\n",
            "dense (Dense)                (None, 1024)              2098176   \n",
            "_________________________________________________________________\n",
            "dropout_2 (Dropout)          (None, 1024)              0         \n",
            "_________________________________________________________________\n",
            "dense_1 (Dense)              (None, 512)               524800    \n",
            "_________________________________________________________________\n",
            "dropout_3 (Dropout)          (None, 512)               0         \n",
            "_________________________________________________________________\n",
            "dense_2 (Dense)              (None, 7)                 3591      \n",
            "=================================================================\n",
            "Total params: 2,867,591\n",
            "Trainable params: 2,867,207\n",
            "Non-trainable params: 384\n",
            "_________________________________________________________________\n"
          ]
        }
      ]
    },
    {
      "cell_type": "code",
      "metadata": {
        "id": "Jcmr0Q1y-UN4",
        "colab": {
          "base_uri": "https://localhost:8080/"
        },
        "outputId": "b060dfb6-6787-454e-a90d-53f724f4d4a4"
      },
      "source": [
        "emotion_model.compile(loss='categorical_crossentropy',optimizer=Adam(lr=0.0001, decay=1e-6),metrics=['accuracy'])\n",
        "emotion_model_info = emotion_model.fit(train_datagen.flow(X_train, y_train, batch_size=64),\n",
        "         validation_data=val_datagen.flow(X_test, y_test,batch_size=64), epochs=50)"
      ],
      "execution_count": null,
      "outputs": [
        {
          "output_type": "stream",
          "name": "stderr",
          "text": [
            "/usr/local/lib/python3.7/dist-packages/keras/optimizer_v2/optimizer_v2.py:356: UserWarning: The `lr` argument is deprecated, use `learning_rate` instead.\n",
            "  \"The `lr` argument is deprecated, use `learning_rate` instead.\")\n"
          ]
        },
        {
          "output_type": "stream",
          "name": "stdout",
          "text": [
            "Epoch 1/50\n",
            "449/449 [==============================] - 51s 45ms/step - loss: 2.0960 - accuracy: 0.2153 - val_loss: 1.8650 - val_accuracy: 0.2494\n",
            "Epoch 2/50\n",
            "449/449 [==============================] - 19s 43ms/step - loss: 1.8222 - accuracy: 0.2608 - val_loss: 1.7358 - val_accuracy: 0.3240\n",
            "Epoch 3/50\n",
            "449/449 [==============================] - 19s 43ms/step - loss: 1.7469 - accuracy: 0.2989 - val_loss: 1.6471 - val_accuracy: 0.3728\n",
            "Epoch 4/50\n",
            "449/449 [==============================] - 19s 43ms/step - loss: 1.6855 - accuracy: 0.3287 - val_loss: 1.6054 - val_accuracy: 0.3940\n",
            "Epoch 5/50\n",
            "449/449 [==============================] - 19s 43ms/step - loss: 1.6213 - accuracy: 0.3642 - val_loss: 1.5026 - val_accuracy: 0.4207\n",
            "Epoch 6/50\n",
            "449/449 [==============================] - 19s 43ms/step - loss: 1.5763 - accuracy: 0.3793 - val_loss: 1.4984 - val_accuracy: 0.4341\n",
            "Epoch 7/50\n",
            "449/449 [==============================] - 20s 43ms/step - loss: 1.5309 - accuracy: 0.4028 - val_loss: 1.4312 - val_accuracy: 0.4547\n",
            "Epoch 8/50\n",
            "449/449 [==============================] - 20s 44ms/step - loss: 1.4931 - accuracy: 0.4189 - val_loss: 1.4564 - val_accuracy: 0.4411\n",
            "Epoch 9/50\n",
            "449/449 [==============================] - 19s 43ms/step - loss: 1.4624 - accuracy: 0.4349 - val_loss: 1.3404 - val_accuracy: 0.4909\n",
            "Epoch 10/50\n",
            "449/449 [==============================] - 20s 44ms/step - loss: 1.4327 - accuracy: 0.4495 - val_loss: 1.3766 - val_accuracy: 0.4809\n",
            "Epoch 11/50\n",
            "449/449 [==============================] - 19s 43ms/step - loss: 1.4068 - accuracy: 0.4595 - val_loss: 1.3553 - val_accuracy: 0.4876\n",
            "Epoch 12/50\n",
            "449/449 [==============================] - 20s 43ms/step - loss: 1.3783 - accuracy: 0.4670 - val_loss: 1.2638 - val_accuracy: 0.5102\n",
            "Epoch 13/50\n",
            "449/449 [==============================] - 20s 44ms/step - loss: 1.3579 - accuracy: 0.4765 - val_loss: 1.2906 - val_accuracy: 0.5116\n",
            "Epoch 14/50\n",
            "449/449 [==============================] - 19s 43ms/step - loss: 1.3370 - accuracy: 0.4869 - val_loss: 1.2254 - val_accuracy: 0.5274\n",
            "Epoch 15/50\n",
            "449/449 [==============================] - 19s 43ms/step - loss: 1.3220 - accuracy: 0.4938 - val_loss: 1.2220 - val_accuracy: 0.5327\n",
            "Epoch 16/50\n",
            "449/449 [==============================] - 19s 43ms/step - loss: 1.2970 - accuracy: 0.5060 - val_loss: 1.2111 - val_accuracy: 0.5336\n",
            "Epoch 17/50\n",
            "449/449 [==============================] - 19s 43ms/step - loss: 1.2827 - accuracy: 0.5083 - val_loss: 1.2266 - val_accuracy: 0.5327\n",
            "Epoch 18/50\n",
            "449/449 [==============================] - 19s 43ms/step - loss: 1.2732 - accuracy: 0.5157 - val_loss: 1.1781 - val_accuracy: 0.5433\n",
            "Epoch 19/50\n",
            "449/449 [==============================] - 19s 43ms/step - loss: 1.2598 - accuracy: 0.5221 - val_loss: 1.2581 - val_accuracy: 0.5350\n",
            "Epoch 20/50\n",
            "449/449 [==============================] - 19s 42ms/step - loss: 1.2401 - accuracy: 0.5289 - val_loss: 1.1582 - val_accuracy: 0.5645\n",
            "Epoch 21/50\n",
            "449/449 [==============================] - 20s 43ms/step - loss: 1.2347 - accuracy: 0.5297 - val_loss: 1.1569 - val_accuracy: 0.5659\n",
            "Epoch 22/50\n",
            "449/449 [==============================] - 19s 43ms/step - loss: 1.2168 - accuracy: 0.5384 - val_loss: 1.1340 - val_accuracy: 0.5709\n",
            "Epoch 23/50\n",
            "449/449 [==============================] - 19s 43ms/step - loss: 1.2130 - accuracy: 0.5410 - val_loss: 1.1395 - val_accuracy: 0.5768\n",
            "Epoch 24/50\n",
            "449/449 [==============================] - 19s 43ms/step - loss: 1.1991 - accuracy: 0.5441 - val_loss: 1.1344 - val_accuracy: 0.5737\n",
            "Epoch 25/50\n",
            "449/449 [==============================] - 20s 44ms/step - loss: 1.1905 - accuracy: 0.5495 - val_loss: 1.1697 - val_accuracy: 0.5600\n",
            "Epoch 26/50\n",
            "449/449 [==============================] - 19s 43ms/step - loss: 1.1827 - accuracy: 0.5494 - val_loss: 1.1123 - val_accuracy: 0.5779\n",
            "Epoch 27/50\n",
            "449/449 [==============================] - 20s 45ms/step - loss: 1.1656 - accuracy: 0.5582 - val_loss: 1.1272 - val_accuracy: 0.5784\n",
            "Epoch 28/50\n",
            "449/449 [==============================] - 20s 44ms/step - loss: 1.1555 - accuracy: 0.5605 - val_loss: 1.1258 - val_accuracy: 0.5860\n",
            "Epoch 29/50\n",
            "449/449 [==============================] - 20s 44ms/step - loss: 1.1514 - accuracy: 0.5624 - val_loss: 1.1077 - val_accuracy: 0.5812\n",
            "Epoch 30/50\n",
            "449/449 [==============================] - 20s 44ms/step - loss: 1.1458 - accuracy: 0.5662 - val_loss: 1.0875 - val_accuracy: 0.5918\n",
            "Epoch 31/50\n",
            "449/449 [==============================] - 20s 44ms/step - loss: 1.1331 - accuracy: 0.5697 - val_loss: 1.0776 - val_accuracy: 0.6027\n",
            "Epoch 32/50\n",
            "449/449 [==============================] - 20s 45ms/step - loss: 1.1267 - accuracy: 0.5715 - val_loss: 1.0776 - val_accuracy: 0.6018\n",
            "Epoch 33/50\n",
            "449/449 [==============================] - 20s 44ms/step - loss: 1.1218 - accuracy: 0.5729 - val_loss: 1.0896 - val_accuracy: 0.5979\n",
            "Epoch 34/50\n",
            "449/449 [==============================] - 20s 44ms/step - loss: 1.1146 - accuracy: 0.5786 - val_loss: 1.0702 - val_accuracy: 0.6052\n",
            "Epoch 35/50\n",
            "449/449 [==============================] - 20s 44ms/step - loss: 1.1127 - accuracy: 0.5766 - val_loss: 1.0911 - val_accuracy: 0.5982\n",
            "Epoch 36/50\n",
            "449/449 [==============================] - 20s 45ms/step - loss: 1.1034 - accuracy: 0.5814 - val_loss: 1.0760 - val_accuracy: 0.6030\n",
            "Epoch 37/50\n",
            "449/449 [==============================] - 20s 45ms/step - loss: 1.0941 - accuracy: 0.5859 - val_loss: 1.0703 - val_accuracy: 0.6013\n",
            "Epoch 38/50\n",
            "449/449 [==============================] - 20s 44ms/step - loss: 1.0873 - accuracy: 0.5878 - val_loss: 1.0617 - val_accuracy: 0.6119\n",
            "Epoch 39/50\n",
            "449/449 [==============================] - 20s 44ms/step - loss: 1.0779 - accuracy: 0.5875 - val_loss: 1.0496 - val_accuracy: 0.6082\n",
            "Epoch 40/50\n",
            "449/449 [==============================] - 20s 45ms/step - loss: 1.0753 - accuracy: 0.5938 - val_loss: 1.0605 - val_accuracy: 0.6124\n",
            "Epoch 41/50\n",
            "449/449 [==============================] - 20s 44ms/step - loss: 1.0716 - accuracy: 0.5935 - val_loss: 1.0520 - val_accuracy: 0.6121\n",
            "Epoch 42/50\n",
            "449/449 [==============================] - 20s 45ms/step - loss: 1.0611 - accuracy: 0.5946 - val_loss: 1.0321 - val_accuracy: 0.6233\n",
            "Epoch 43/50\n",
            "449/449 [==============================] - 20s 44ms/step - loss: 1.0581 - accuracy: 0.6002 - val_loss: 1.0613 - val_accuracy: 0.6110\n",
            "Epoch 44/50\n",
            "449/449 [==============================] - 20s 44ms/step - loss: 1.0477 - accuracy: 0.6013 - val_loss: 1.0505 - val_accuracy: 0.6202\n",
            "Epoch 45/50\n",
            "449/449 [==============================] - 20s 44ms/step - loss: 1.0505 - accuracy: 0.6019 - val_loss: 1.0411 - val_accuracy: 0.6144\n",
            "Epoch 46/50\n",
            "449/449 [==============================] - 20s 44ms/step - loss: 1.0465 - accuracy: 0.6018 - val_loss: 1.0356 - val_accuracy: 0.6163\n",
            "Epoch 47/50\n",
            "449/449 [==============================] - 20s 44ms/step - loss: 1.0362 - accuracy: 0.6090 - val_loss: 1.0310 - val_accuracy: 0.6205\n",
            "Epoch 48/50\n",
            "449/449 [==============================] - 20s 44ms/step - loss: 1.0292 - accuracy: 0.6099 - val_loss: 1.0260 - val_accuracy: 0.6280\n",
            "Epoch 49/50\n",
            "449/449 [==============================] - 20s 44ms/step - loss: 1.0281 - accuracy: 0.6090 - val_loss: 1.0443 - val_accuracy: 0.6158\n",
            "Epoch 50/50\n",
            "449/449 [==============================] - 20s 45ms/step - loss: 1.0240 - accuracy: 0.6092 - val_loss: 1.0543 - val_accuracy: 0.6124\n"
          ]
        }
      ]
    },
    {
      "cell_type": "code",
      "metadata": {
        "id": "Mt_Ei-Kr-yrZ"
      },
      "source": [
        "emotion_model.save('final_model.h5')"
      ],
      "execution_count": null,
      "outputs": []
    },
    {
      "cell_type": "code",
      "metadata": {
        "id": "PhjxDIPwdaap"
      },
      "source": [
        "from IPython import display"
      ],
      "execution_count": null,
      "outputs": []
    },
    {
      "cell_type": "code",
      "metadata": {
        "id": "EabZ3gHKdWug"
      },
      "source": [
        "def show_emoji(x):\n",
        "  if x == 0:\n",
        "    img = display.Image(url = \"https://images.emojiterra.com/twitter/v13.0/512px/1f620.png\", width = 200)\n",
        "  elif x == 1:\n",
        "    img = display.Image(url = \"https://images.emojiterra.com/openmoji/v12.2/512px/1f922.png\", width = 250)\n",
        "  elif x == 2:\n",
        "    img = display.Image(url = \"https://images.emojiterra.com/google/android-11/512px/1f628.png\", width = 200)\n",
        "  elif x == 3:\n",
        "    img = display.Image(url = \"https://images.emojiterra.com/twitter/v13.0/512px/1f604.png\", width = 200)\n",
        "  elif x == 4:\n",
        "    img = display.Image(url = \"https://images.emojiterra.com/twitter/v13.0/512px/1f622.png\", width = 200)\n",
        "  elif x == 5:\n",
        "    img = display.Image(url = \"https://images.emojiterra.com/twitter/v13.0/512px/1f62f.png\", width = 200)\n",
        "  elif x == 6:\n",
        "    img = display.Image(url = \"https://images.emojiterra.com/twitter/v13.0/512px/1f610.png\", width = 200)\n",
        "\n",
        "  display.display(img)"
      ],
      "execution_count": null,
      "outputs": []
    },
    {
      "cell_type": "code",
      "metadata": {
        "colab": {
          "base_uri": "https://localhost:8080/"
        },
        "id": "BSFu1YYrbPSi",
        "outputId": "bef419ff-491b-421c-e47e-782fb9a602a9"
      },
      "source": [
        "inputs = X_test[5].reshape(-1,48,48,1)\n",
        "# query the network\n",
        "predictions = emotion_model.predict(inputs)\n",
        "label = np.argmax(predictions)\n",
        "label"
      ],
      "execution_count": null,
      "outputs": [
        {
          "output_type": "execute_result",
          "data": {
            "text/plain": [
              "3"
            ]
          },
          "metadata": {},
          "execution_count": 57
        }
      ]
    },
    {
      "cell_type": "code",
      "metadata": {
        "id": "23jeWWq6XiHx",
        "colab": {
          "base_uri": "https://localhost:8080/",
          "height": 255
        },
        "outputId": "40a2d15d-d831-4b5b-c81d-7c16e3a00f0c"
      },
      "source": [
        "# test the neural network \n",
        "\n",
        "# record to test\n",
        "item = 50\n",
        "\n",
        "# plot image\n",
        "#plt.imshow(X_test[item].reshape(48,48), cmap='rainbow', interpolation='None')\n",
        "\n",
        "# correct answer is first value\n",
        "correct_label = label_to_text[np.argmax(y_test[item])]\n",
        "print(\"correct label : \", correct_label)\n",
        "# data is remaining values\n",
        "inputs = X_test[item].reshape(-1,48,48,1)\n",
        "# query the network\n",
        "predictions = emotion_model.predict(inputs)\n",
        "label = np.argmax(predictions)\n",
        "print(\"network says: \", label_to_text[label])\n",
        "show_emoji(np.argmax(y_test[item]))\n",
        "# append correct or incorrect to list\n",
        "if(correct_label==label_to_text[label]):\n",
        "  print(\"match!\")\n",
        "\n",
        "pass"
      ],
      "execution_count": null,
      "outputs": [
        {
          "output_type": "stream",
          "name": "stdout",
          "text": [
            "correct label :  anger\n",
            "network says:  neutral\n"
          ]
        },
        {
          "output_type": "display_data",
          "data": {
            "text/html": [
              "<img src=\"https://images.emojiterra.com/twitter/v13.0/512px/1f620.png\" width=\"200\"/>"
            ],
            "text/plain": [
              "<IPython.core.display.Image object>"
            ]
          },
          "metadata": {}
        }
      ]
    },
    {
      "cell_type": "code",
      "metadata": {
        "id": "XBVGpArkj-WW"
      },
      "source": [
        "from IPython import display"
      ],
      "execution_count": null,
      "outputs": []
    },
    {
      "cell_type": "code",
      "metadata": {
        "id": "jF8qSAYqLpRB"
      },
      "source": [
        "def show_emoji(x):\n",
        "  if x == 0:\n",
        "    img = display.Image(url = \"https://images.emojiterra.com/twitter/v13.0/512px/1f620.png\", width = 200)\n",
        "  elif x == 1:\n",
        "    img = display.Image(url = \"https://images.emojiterra.com/openmoji/v12.2/512px/1f922.png\", width = 250)\n",
        "  elif x == 2:\n",
        "    img = display.Image(url = \"https://images.emojiterra.com/google/android-11/512px/1f628.png\", width = 200)\n",
        "  elif x == 3:\n",
        "    img = display.Image(url = \"https://images.emojiterra.com/twitter/v13.0/512px/1f604.png\", width = 200)\n",
        "  elif x == 4:\n",
        "    img = display.Image(url = \"https://images.emojiterra.com/twitter/v13.0/512px/1f622.png\", width = 200)\n",
        "  elif x == 5:\n",
        "    img = display.Image(url = \"https://images.emojiterra.com/twitter/v13.0/512px/1f62f.png\", width = 200)\n",
        "  elif x == 6:\n",
        "    img = display.Image(url = \"https://images.emojiterra.com/twitter/v13.0/512px/1f610.png\", width = 200)\n",
        "\n",
        "  display.display(img)\n",
        "    \n"
      ],
      "execution_count": null,
      "outputs": []
    },
    {
      "cell_type": "code",
      "metadata": {
        "id": "P8bfmK3oLuG1",
        "colab": {
          "base_uri": "https://localhost:8080/",
          "height": 221
        },
        "outputId": "25198a35-79d7-4cf0-93e8-407f6a46ead2"
      },
      "source": [
        "show_emoji(2)"
      ],
      "execution_count": null,
      "outputs": [
        {
          "output_type": "display_data",
          "data": {
            "text/html": [
              "<img src=\"https://images.emojiterra.com/google/android-11/512px/1f628.png\" width=\"200\"/>"
            ],
            "text/plain": [
              "<IPython.core.display.Image object>"
            ]
          },
          "metadata": {}
        }
      ]
    },
    {
      "cell_type": "code",
      "metadata": {
        "id": "6NwWc6N9ZiMN"
      },
      "source": [
        ""
      ],
      "execution_count": null,
      "outputs": []
    }
  ]
}